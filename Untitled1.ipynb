{
 "cells": [
  {
   "cell_type": "code",
   "execution_count": 1,
   "id": "99b037bf",
   "metadata": {},
   "outputs": [
    {
     "data": {
      "text/plain": [
       "2"
      ]
     },
     "execution_count": 1,
     "metadata": {},
     "output_type": "execute_result"
    }
   ],
   "source": [
    "class Car:\n",
    "    totalcars=0\n",
    "    def __init__(self,model):\n",
    "        Car.totalcars+=1\n",
    "        self.model=model\n",
    "      \n",
    "car1= Car(\"ford\")\n",
    "car2= Car(\"audi\")\n",
    "\n",
    "Car.totalcars"
   ]
  },
  {
   "cell_type": "code",
   "execution_count": 11,
   "id": "dc10b3b4",
   "metadata": {},
   "outputs": [
    {
     "name": "stdout",
     "output_type": "stream",
     "text": [
      "Initialised\n"
     ]
    }
   ],
   "source": [
    "class Car:\n",
    "    totalcars=0\n",
    "    def __init__(self,model):\n",
    "        Car.totalcars+=1\n",
    "        self.model=model\n",
    "\n",
    "class luxury(Car):\n",
    "    def __init__(self,model):\n",
    "        super(luxury,self).__init__(model)\n",
    "        print(\"Initialised\")\n",
    "        \n",
    "car3= luxury(\"rolls\")        "
   ]
  },
  {
   "cell_type": "code",
   "execution_count": 12,
   "id": "7dc62713",
   "metadata": {},
   "outputs": [
    {
     "data": {
      "text/plain": [
       "True"
      ]
     },
     "execution_count": 12,
     "metadata": {},
     "output_type": "execute_result"
    }
   ],
   "source": [
    "class circle:\n",
    "    def __init__(self,r,c):\n",
    "        self.r = r\n",
    "        self.c=c\n",
    "    def __eq__(circle1,circle2):\n",
    "        if(circle1.r==circle2.r and circle1.c==circle2.c):\n",
    "            return True\n",
    "        return False\n",
    "    \n",
    "c1= circle(2,4)\n",
    "c2=circle(2,4)\n",
    "c1==c2"
   ]
  },
  {
   "cell_type": "code",
   "execution_count": 13,
   "id": "8bb6d90f",
   "metadata": {},
   "outputs": [
    {
     "name": "stdout",
     "output_type": "stream",
     "text": [
      "<class 'tuple'>\n",
      "<class 'dict'>\n"
     ]
    }
   ],
   "source": [
    "def fxn(p1, *args, **kwargs):\n",
    "    print(type(args))\n",
    "    print(type(kwargs))\n",
    "    \n",
    "fxn(4)\n"
   ]
  },
  {
   "cell_type": "code",
   "execution_count": 15,
   "id": "ef50b650",
   "metadata": {},
   "outputs": [
    {
     "name": "stdout",
     "output_type": "stream",
     "text": [
      "<class 'tuple'>\n",
      "<class 'dict'>\n",
      "1 (34, 25, 3, 2, 4, 6, 777) {'name': 'Ishan'}\n"
     ]
    }
   ],
   "source": [
    "def fxn(p1, *args, **kwargs):\n",
    "    print(type(args))\n",
    "    print(type(kwargs))\n",
    "    print(p1,args,kwargs)\n",
    "    \n",
    "fxn(1,34,25,3,2,4,6,777,name=\"Ishan\")"
   ]
  },
  {
   "cell_type": "code",
   "execution_count": 19,
   "id": "6f0c9423",
   "metadata": {},
   "outputs": [
    {
     "name": "stdout",
     "output_type": "stream",
     "text": [
      "<class 'tuple'>\n",
      "<class 'dict'>\n",
      "1 (2, 3, 4, 5, 6, 7, 8, 9) {}\n",
      "44\n"
     ]
    }
   ],
   "source": [
    "def fxn(p1, *args, **kwargs):\n",
    "    print(type(args))\n",
    "    print(type(kwargs))\n",
    "    print(p1,args,kwargs)\n",
    "    x=0\n",
    "    for _ in range (len(args)):\n",
    "        x+=args[_]\n",
    "    print(x)\n",
    "    \n",
    "fxn(1,2,3,4,5,6,7,8,9)    "
   ]
  },
  {
   "cell_type": "code",
   "execution_count": 20,
   "id": "35608c4f",
   "metadata": {},
   "outputs": [
    {
     "data": {
      "text/plain": [
       "5"
      ]
     },
     "execution_count": 20,
     "metadata": {},
     "output_type": "execute_result"
    }
   ],
   "source": [
    "add_1=lambda x : x+1\n",
    "add_1(4)"
   ]
  },
  {
   "cell_type": "code",
   "execution_count": 21,
   "id": "dfc1dc18",
   "metadata": {},
   "outputs": [
    {
     "data": {
      "text/plain": [
       "3"
      ]
     },
     "execution_count": 21,
     "metadata": {},
     "output_type": "execute_result"
    }
   ],
   "source": [
    "remainder = lambda x,y : x%y\n",
    "remainder(3,5)"
   ]
  },
  {
   "cell_type": "code",
   "execution_count": 25,
   "id": "ea4f2a57",
   "metadata": {},
   "outputs": [
    {
     "name": "stdout",
     "output_type": "stream",
     "text": [
      "error!\n",
      "loop broken\n"
     ]
    }
   ],
   "source": [
    "try:\n",
    "    for _ in range(10):\n",
    "        print(3%_)\n",
    "except ZeroDivisionError:\n",
    "    print(\"error!\")\n",
    "finally:\n",
    "    print(\"loop broken\")"
   ]
  },
  {
   "cell_type": "code",
   "execution_count": 26,
   "id": "e59a74d3",
   "metadata": {},
   "outputs": [],
   "source": [
    "f= open(\"technex.docx\")"
   ]
  },
  {
   "cell_type": "code",
   "execution_count": 51,
   "id": "93f317e6",
   "metadata": {},
   "outputs": [
    {
     "ename": "FileNotFoundError",
     "evalue": "[Errno 2] No such file or directory: 'cover letter.txt'",
     "output_type": "error",
     "traceback": [
      "\u001b[1;31m---------------------------------------------------------------------------\u001b[0m",
      "\u001b[1;31mFileNotFoundError\u001b[0m                         Traceback (most recent call last)",
      "\u001b[1;32m<ipython-input-51-e38adbad7467>\u001b[0m in \u001b[0;36m<module>\u001b[1;34m\u001b[0m\n\u001b[1;32m----> 1\u001b[1;33m \u001b[0mf\u001b[0m\u001b[1;33m=\u001b[0m \u001b[0mopen\u001b[0m\u001b[1;33m(\u001b[0m\u001b[1;34m\"cover letter.txt\"\u001b[0m\u001b[1;33m,\u001b[0m\u001b[1;34m'r'\u001b[0m\u001b[1;33m)\u001b[0m\u001b[1;33m\u001b[0m\u001b[1;33m\u001b[0m\u001b[0m\n\u001b[0m\u001b[0;32m      2\u001b[0m \u001b[0mf\u001b[0m\u001b[1;33m.\u001b[0m\u001b[0mread\u001b[0m\u001b[1;33m(\u001b[0m\u001b[1;33m)\u001b[0m\u001b[1;33m\u001b[0m\u001b[1;33m\u001b[0m\u001b[0m\n",
      "\u001b[1;31mFileNotFoundError\u001b[0m: [Errno 2] No such file or directory: 'cover letter.txt'"
     ]
    }
   ],
   "source": [
    "f= open(\"cover letter.txt\",'r')\n",
    "f.read()"
   ]
  },
  {
   "cell_type": "code",
   "execution_count": 38,
   "id": "35c1aa8e",
   "metadata": {},
   "outputs": [],
   "source": [
    "import webbrowser"
   ]
  },
  {
   "cell_type": "code",
   "execution_count": 39,
   "id": "2147f91f",
   "metadata": {},
   "outputs": [
    {
     "data": {
      "text/plain": [
       "True"
      ]
     },
     "execution_count": 39,
     "metadata": {},
     "output_type": "execute_result"
    }
   ],
   "source": [
    "webbrowser.open_new_tab(\"iitbhu.ac.in\")"
   ]
  },
  {
   "cell_type": "code",
   "execution_count": 40,
   "id": "733e8957",
   "metadata": {},
   "outputs": [
    {
     "name": "stdout",
     "output_type": "stream",
     "text": [
      "0\n",
      "1\n",
      "2\n",
      "3\n",
      "4\n"
     ]
    }
   ],
   "source": [
    "import time\n",
    "for _ in range(5):\n",
    "    print(_)\n",
    "    time.sleep(1)"
   ]
  },
  {
   "cell_type": "code",
   "execution_count": 45,
   "id": "9ad6b3f1",
   "metadata": {},
   "outputs": [
    {
     "name": "stderr",
     "output_type": "stream",
     "text": [
      "100%|████████████████████████████████████████████████████████████████████████████████████| 4/4 [00:02<00:00,  1.87it/s]\n"
     ]
    }
   ],
   "source": [
    "import tqdm\n",
    "for i in tqdm.trange(1,5):\n",
    "    time.sleep(0.5)"
   ]
  },
  {
   "cell_type": "code",
   "execution_count": 46,
   "id": "e80ebf6e",
   "metadata": {},
   "outputs": [],
   "source": [
    "import matplotlib.pyplot as plt"
   ]
  },
  {
   "cell_type": "code",
   "execution_count": 47,
   "id": "ea19b563",
   "metadata": {},
   "outputs": [
    {
     "data": {
      "text/plain": [
       "[<matplotlib.lines.Line2D at 0x1e5f01bc1c0>]"
      ]
     },
     "execution_count": 47,
     "metadata": {},
     "output_type": "execute_result"
    },
    {
     "data": {
      "image/png": "[encoded data removed]",
      "text/plain": [
       "<Figure size 432x288 with 1 Axes>"
      ]
     },
     "metadata": {
      "needs_background": "light"
     },
     "output_type": "display_data"
    }
   ],
   "source": [
    "x=[1,4,2,5,6]\n",
    "y=[8,3,6,4,3]\n",
    "plt.plot(x,y)"
   ]
  },
  {
   "cell_type": "code",
   "execution_count": null,
   "id": "b2981b3d",
   "metadata": {},
   "outputs": [],
   "source": []
  }
 ],
 "metadata": {
  "kernelspec": {
   "display_name": "Python 3",
   "language": "python",
   "name": "python3"
  },
  "language_info": {
   "codemirror_mode": {
    "name": "ipython",
    "version": 3
   },
   "file_extension": ".py",
   "mimetype": "text/x-python",
   "name": "python",
   "nbconvert_exporter": "python",
   "pygments_lexer": "ipython3",
   "version": "3.8.8"
  }
 },
 "nbformat": 4,
 "nbformat_minor": 5
}
